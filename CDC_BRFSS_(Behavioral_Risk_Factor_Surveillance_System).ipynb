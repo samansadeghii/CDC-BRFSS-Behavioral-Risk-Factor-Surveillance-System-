{
  "nbformat": 4,
  "nbformat_minor": 0,
  "metadata": {
    "colab": {
      "provenance": [],
      "authorship_tag": "ABX9TyMUkaC2IJYFB3ylj5DOtf2r",
      "include_colab_link": true
    },
    "kernelspec": {
      "name": "python3",
      "display_name": "Python 3"
    },
    "language_info": {
      "name": "python"
    }
  },
  "cells": [
    {
      "cell_type": "markdown",
      "metadata": {
        "id": "view-in-github",
        "colab_type": "text"
      },
      "source": [
        "<a href=\"https://colab.research.google.com/github/samansadeghii/CDC-BRFSS-Behavioral-Risk-Factor-Surveillance-System-/blob/main/CDC_BRFSS_(Behavioral_Risk_Factor_Surveillance_System).ipynb\" target=\"_parent\"><img src=\"https://colab.research.google.com/assets/colab-badge.svg\" alt=\"Open In Colab\"/></a>"
      ]
    },
    {
      "cell_type": "code",
      "source": [
        "from google.colab import files\n",
        "uploaded = files.upload()\n"
      ],
      "metadata": {
        "colab": {
          "base_uri": "https://localhost:8080/",
          "height": 93
        },
        "id": "NUqhH2Lssd9F",
        "outputId": "8a4d7755-0e86-475d-8692-341c9987d341"
      },
      "execution_count": 2,
      "outputs": [
        {
          "output_type": "display_data",
          "data": {
            "text/plain": [
              "<IPython.core.display.HTML object>"
            ],
            "text/html": [
              "\n",
              "     <input type=\"file\" id=\"files-8396076a-0198-4816-b7ce-bcec209aa167\" name=\"files[]\" multiple disabled\n",
              "        style=\"border:none\" />\n",
              "     <output id=\"result-8396076a-0198-4816-b7ce-bcec209aa167\">\n",
              "      Upload widget is only available when the cell has been executed in the\n",
              "      current browser session. Please rerun this cell to enable.\n",
              "      </output>\n",
              "      <script>// Copyright 2017 Google LLC\n",
              "//\n",
              "// Licensed under the Apache License, Version 2.0 (the \"License\");\n",
              "// you may not use this file except in compliance with the License.\n",
              "// You may obtain a copy of the License at\n",
              "//\n",
              "//      http://www.apache.org/licenses/LICENSE-2.0\n",
              "//\n",
              "// Unless required by applicable law or agreed to in writing, software\n",
              "// distributed under the License is distributed on an \"AS IS\" BASIS,\n",
              "// WITHOUT WARRANTIES OR CONDITIONS OF ANY KIND, either express or implied.\n",
              "// See the License for the specific language governing permissions and\n",
              "// limitations under the License.\n",
              "\n",
              "/**\n",
              " * @fileoverview Helpers for google.colab Python module.\n",
              " */\n",
              "(function(scope) {\n",
              "function span(text, styleAttributes = {}) {\n",
              "  const element = document.createElement('span');\n",
              "  element.textContent = text;\n",
              "  for (const key of Object.keys(styleAttributes)) {\n",
              "    element.style[key] = styleAttributes[key];\n",
              "  }\n",
              "  return element;\n",
              "}\n",
              "\n",
              "// Max number of bytes which will be uploaded at a time.\n",
              "const MAX_PAYLOAD_SIZE = 100 * 1024;\n",
              "\n",
              "function _uploadFiles(inputId, outputId) {\n",
              "  const steps = uploadFilesStep(inputId, outputId);\n",
              "  const outputElement = document.getElementById(outputId);\n",
              "  // Cache steps on the outputElement to make it available for the next call\n",
              "  // to uploadFilesContinue from Python.\n",
              "  outputElement.steps = steps;\n",
              "\n",
              "  return _uploadFilesContinue(outputId);\n",
              "}\n",
              "\n",
              "// This is roughly an async generator (not supported in the browser yet),\n",
              "// where there are multiple asynchronous steps and the Python side is going\n",
              "// to poll for completion of each step.\n",
              "// This uses a Promise to block the python side on completion of each step,\n",
              "// then passes the result of the previous step as the input to the next step.\n",
              "function _uploadFilesContinue(outputId) {\n",
              "  const outputElement = document.getElementById(outputId);\n",
              "  const steps = outputElement.steps;\n",
              "\n",
              "  const next = steps.next(outputElement.lastPromiseValue);\n",
              "  return Promise.resolve(next.value.promise).then((value) => {\n",
              "    // Cache the last promise value to make it available to the next\n",
              "    // step of the generator.\n",
              "    outputElement.lastPromiseValue = value;\n",
              "    return next.value.response;\n",
              "  });\n",
              "}\n",
              "\n",
              "/**\n",
              " * Generator function which is called between each async step of the upload\n",
              " * process.\n",
              " * @param {string} inputId Element ID of the input file picker element.\n",
              " * @param {string} outputId Element ID of the output display.\n",
              " * @return {!Iterable<!Object>} Iterable of next steps.\n",
              " */\n",
              "function* uploadFilesStep(inputId, outputId) {\n",
              "  const inputElement = document.getElementById(inputId);\n",
              "  inputElement.disabled = false;\n",
              "\n",
              "  const outputElement = document.getElementById(outputId);\n",
              "  outputElement.innerHTML = '';\n",
              "\n",
              "  const pickedPromise = new Promise((resolve) => {\n",
              "    inputElement.addEventListener('change', (e) => {\n",
              "      resolve(e.target.files);\n",
              "    });\n",
              "  });\n",
              "\n",
              "  const cancel = document.createElement('button');\n",
              "  inputElement.parentElement.appendChild(cancel);\n",
              "  cancel.textContent = 'Cancel upload';\n",
              "  const cancelPromise = new Promise((resolve) => {\n",
              "    cancel.onclick = () => {\n",
              "      resolve(null);\n",
              "    };\n",
              "  });\n",
              "\n",
              "  // Wait for the user to pick the files.\n",
              "  const files = yield {\n",
              "    promise: Promise.race([pickedPromise, cancelPromise]),\n",
              "    response: {\n",
              "      action: 'starting',\n",
              "    }\n",
              "  };\n",
              "\n",
              "  cancel.remove();\n",
              "\n",
              "  // Disable the input element since further picks are not allowed.\n",
              "  inputElement.disabled = true;\n",
              "\n",
              "  if (!files) {\n",
              "    return {\n",
              "      response: {\n",
              "        action: 'complete',\n",
              "      }\n",
              "    };\n",
              "  }\n",
              "\n",
              "  for (const file of files) {\n",
              "    const li = document.createElement('li');\n",
              "    li.append(span(file.name, {fontWeight: 'bold'}));\n",
              "    li.append(span(\n",
              "        `(${file.type || 'n/a'}) - ${file.size} bytes, ` +\n",
              "        `last modified: ${\n",
              "            file.lastModifiedDate ? file.lastModifiedDate.toLocaleDateString() :\n",
              "                                    'n/a'} - `));\n",
              "    const percent = span('0% done');\n",
              "    li.appendChild(percent);\n",
              "\n",
              "    outputElement.appendChild(li);\n",
              "\n",
              "    const fileDataPromise = new Promise((resolve) => {\n",
              "      const reader = new FileReader();\n",
              "      reader.onload = (e) => {\n",
              "        resolve(e.target.result);\n",
              "      };\n",
              "      reader.readAsArrayBuffer(file);\n",
              "    });\n",
              "    // Wait for the data to be ready.\n",
              "    let fileData = yield {\n",
              "      promise: fileDataPromise,\n",
              "      response: {\n",
              "        action: 'continue',\n",
              "      }\n",
              "    };\n",
              "\n",
              "    // Use a chunked sending to avoid message size limits. See b/62115660.\n",
              "    let position = 0;\n",
              "    do {\n",
              "      const length = Math.min(fileData.byteLength - position, MAX_PAYLOAD_SIZE);\n",
              "      const chunk = new Uint8Array(fileData, position, length);\n",
              "      position += length;\n",
              "\n",
              "      const base64 = btoa(String.fromCharCode.apply(null, chunk));\n",
              "      yield {\n",
              "        response: {\n",
              "          action: 'append',\n",
              "          file: file.name,\n",
              "          data: base64,\n",
              "        },\n",
              "      };\n",
              "\n",
              "      let percentDone = fileData.byteLength === 0 ?\n",
              "          100 :\n",
              "          Math.round((position / fileData.byteLength) * 100);\n",
              "      percent.textContent = `${percentDone}% done`;\n",
              "\n",
              "    } while (position < fileData.byteLength);\n",
              "  }\n",
              "\n",
              "  // All done.\n",
              "  yield {\n",
              "    response: {\n",
              "      action: 'complete',\n",
              "    }\n",
              "  };\n",
              "}\n",
              "\n",
              "scope.google = scope.google || {};\n",
              "scope.google.colab = scope.google.colab || {};\n",
              "scope.google.colab._files = {\n",
              "  _uploadFiles,\n",
              "  _uploadFilesContinue,\n",
              "};\n",
              "})(self);\n",
              "</script> "
            ]
          },
          "metadata": {}
        },
        {
          "output_type": "stream",
          "name": "stdout",
          "text": [
            "Saving Nutrition__Physical_Activity__and_Obesity_-_Behavioral_Risk_Factor_Surveillance_System.csv to Nutrition__Physical_Activity__and_Obesity_-_Behavioral_Risk_Factor_Surveillance_System.csv\n"
          ]
        }
      ]
    },
    {
      "cell_type": "code",
      "source": [
        "import os\n",
        "os.listdir()\n"
      ],
      "metadata": {
        "colab": {
          "base_uri": "https://localhost:8080/"
        },
        "id": "cQU6cm0KuzzB",
        "outputId": "d8fe7ef1-eb74-47a8-d4dd-66e849bf5a98"
      },
      "execution_count": 5,
      "outputs": [
        {
          "output_type": "execute_result",
          "data": {
            "text/plain": [
              "['.config',\n",
              " 'Nutrition__Physical_Activity__and_Obesity_-_Behavioral_Risk_Factor_Surveillance_System.csv',\n",
              " 'sample_data']"
            ]
          },
          "metadata": {},
          "execution_count": 5
        }
      ]
    },
    {
      "cell_type": "code",
      "source": [
        "import pandas as pd\n",
        "\n",
        "df = pd.read_csv('Nutrition__Physical_Activity__and_Obesity_-_Behavioral_Risk_Factor_Surveillance_System.csv')\n",
        "df.head()\n"
      ],
      "metadata": {
        "colab": {
          "base_uri": "https://localhost:8080/",
          "height": 689
        },
        "id": "xDc1qaHZu3pO",
        "outputId": "e7f99dc0-86ea-4d7d-b6f5-f17ecdc34e21"
      },
      "execution_count": 6,
      "outputs": [
        {
          "output_type": "execute_result",
          "data": {
            "text/plain": [
              "   YearStart  YearEnd LocationAbbr LocationDesc Datasource  \\\n",
              "0       2011     2011           AK       Alaska      BRFSS   \n",
              "1       2011     2011           AK       Alaska      BRFSS   \n",
              "2       2011     2011           AK       Alaska      BRFSS   \n",
              "3       2011     2011           AK       Alaska      BRFSS   \n",
              "4       2011     2011           AK       Alaska      BRFSS   \n",
              "\n",
              "                     Class                         Topic  \\\n",
              "0  Obesity / Weight Status       Obesity / Weight Status   \n",
              "1  Obesity / Weight Status       Obesity / Weight Status   \n",
              "2        Physical Activity  Physical Activity - Behavior   \n",
              "3  Obesity / Weight Status       Obesity / Weight Status   \n",
              "4  Obesity / Weight Status       Obesity / Weight Status   \n",
              "\n",
              "                                            Question  Data_Value_Unit  \\\n",
              "0  Percent of adults aged 18 years and older who ...           2011.0   \n",
              "1  Percent of adults aged 18 years and older who ...           2011.0   \n",
              "2  Percent of adults who achieve at least 150 min...           2011.0   \n",
              "3  Percent of adults aged 18 years and older who ...           2011.0   \n",
              "4  Percent of adults aged 18 years and older who ...           2011.0   \n",
              "\n",
              "  Data_Value_Type  ...                        GeoLocation  ClassID TopicID  \\\n",
              "0           Value  ...  (64.845079957001, -147.722059036)      OWS    OWS1   \n",
              "1           Value  ...  (64.845079957001, -147.722059036)      OWS    OWS1   \n",
              "2           Value  ...  (64.845079957001, -147.722059036)       PA     PA1   \n",
              "3           Value  ...  (64.845079957001, -147.722059036)      OWS    OWS1   \n",
              "4           Value  ...  (64.845079957001, -147.722059036)      OWS    OWS1   \n",
              "\n",
              "  QuestionID  DataValueTypeID  LocationID  StratificationCategory1  \\\n",
              "0       Q036            VALUE           2           Race/Ethnicity   \n",
              "1       Q036            VALUE           2           Race/Ethnicity   \n",
              "2       Q044            VALUE           2                      Sex   \n",
              "3       Q036            VALUE           2              Age (years)   \n",
              "4       Q037            VALUE           2                   Income   \n",
              "\n",
              "     Stratification1 StratificationCategoryId1 StratificationID1  \n",
              "0    2 or more races                      RACE         RACE2PLUS  \n",
              "1              Other                      RACE           RACEOTH  \n",
              "2             Female                       SEX            FEMALE  \n",
              "3            35 - 44                     AGEYR         AGEYR3544  \n",
              "4  $15,000 - $24,999                       INC           INC1525  \n",
              "\n",
              "[5 rows x 33 columns]"
            ],
            "text/html": [
              "\n",
              "  <div id=\"df-910e7f33-ec77-46a4-91da-eceb536d4c7a\" class=\"colab-df-container\">\n",
              "    <div>\n",
              "<style scoped>\n",
              "    .dataframe tbody tr th:only-of-type {\n",
              "        vertical-align: middle;\n",
              "    }\n",
              "\n",
              "    .dataframe tbody tr th {\n",
              "        vertical-align: top;\n",
              "    }\n",
              "\n",
              "    .dataframe thead th {\n",
              "        text-align: right;\n",
              "    }\n",
              "</style>\n",
              "<table border=\"1\" class=\"dataframe\">\n",
              "  <thead>\n",
              "    <tr style=\"text-align: right;\">\n",
              "      <th></th>\n",
              "      <th>YearStart</th>\n",
              "      <th>YearEnd</th>\n",
              "      <th>LocationAbbr</th>\n",
              "      <th>LocationDesc</th>\n",
              "      <th>Datasource</th>\n",
              "      <th>Class</th>\n",
              "      <th>Topic</th>\n",
              "      <th>Question</th>\n",
              "      <th>Data_Value_Unit</th>\n",
              "      <th>Data_Value_Type</th>\n",
              "      <th>...</th>\n",
              "      <th>GeoLocation</th>\n",
              "      <th>ClassID</th>\n",
              "      <th>TopicID</th>\n",
              "      <th>QuestionID</th>\n",
              "      <th>DataValueTypeID</th>\n",
              "      <th>LocationID</th>\n",
              "      <th>StratificationCategory1</th>\n",
              "      <th>Stratification1</th>\n",
              "      <th>StratificationCategoryId1</th>\n",
              "      <th>StratificationID1</th>\n",
              "    </tr>\n",
              "  </thead>\n",
              "  <tbody>\n",
              "    <tr>\n",
              "      <th>0</th>\n",
              "      <td>2011</td>\n",
              "      <td>2011</td>\n",
              "      <td>AK</td>\n",
              "      <td>Alaska</td>\n",
              "      <td>BRFSS</td>\n",
              "      <td>Obesity / Weight Status</td>\n",
              "      <td>Obesity / Weight Status</td>\n",
              "      <td>Percent of adults aged 18 years and older who ...</td>\n",
              "      <td>2011.0</td>\n",
              "      <td>Value</td>\n",
              "      <td>...</td>\n",
              "      <td>(64.845079957001, -147.722059036)</td>\n",
              "      <td>OWS</td>\n",
              "      <td>OWS1</td>\n",
              "      <td>Q036</td>\n",
              "      <td>VALUE</td>\n",
              "      <td>2</td>\n",
              "      <td>Race/Ethnicity</td>\n",
              "      <td>2 or more races</td>\n",
              "      <td>RACE</td>\n",
              "      <td>RACE2PLUS</td>\n",
              "    </tr>\n",
              "    <tr>\n",
              "      <th>1</th>\n",
              "      <td>2011</td>\n",
              "      <td>2011</td>\n",
              "      <td>AK</td>\n",
              "      <td>Alaska</td>\n",
              "      <td>BRFSS</td>\n",
              "      <td>Obesity / Weight Status</td>\n",
              "      <td>Obesity / Weight Status</td>\n",
              "      <td>Percent of adults aged 18 years and older who ...</td>\n",
              "      <td>2011.0</td>\n",
              "      <td>Value</td>\n",
              "      <td>...</td>\n",
              "      <td>(64.845079957001, -147.722059036)</td>\n",
              "      <td>OWS</td>\n",
              "      <td>OWS1</td>\n",
              "      <td>Q036</td>\n",
              "      <td>VALUE</td>\n",
              "      <td>2</td>\n",
              "      <td>Race/Ethnicity</td>\n",
              "      <td>Other</td>\n",
              "      <td>RACE</td>\n",
              "      <td>RACEOTH</td>\n",
              "    </tr>\n",
              "    <tr>\n",
              "      <th>2</th>\n",
              "      <td>2011</td>\n",
              "      <td>2011</td>\n",
              "      <td>AK</td>\n",
              "      <td>Alaska</td>\n",
              "      <td>BRFSS</td>\n",
              "      <td>Physical Activity</td>\n",
              "      <td>Physical Activity - Behavior</td>\n",
              "      <td>Percent of adults who achieve at least 150 min...</td>\n",
              "      <td>2011.0</td>\n",
              "      <td>Value</td>\n",
              "      <td>...</td>\n",
              "      <td>(64.845079957001, -147.722059036)</td>\n",
              "      <td>PA</td>\n",
              "      <td>PA1</td>\n",
              "      <td>Q044</td>\n",
              "      <td>VALUE</td>\n",
              "      <td>2</td>\n",
              "      <td>Sex</td>\n",
              "      <td>Female</td>\n",
              "      <td>SEX</td>\n",
              "      <td>FEMALE</td>\n",
              "    </tr>\n",
              "    <tr>\n",
              "      <th>3</th>\n",
              "      <td>2011</td>\n",
              "      <td>2011</td>\n",
              "      <td>AK</td>\n",
              "      <td>Alaska</td>\n",
              "      <td>BRFSS</td>\n",
              "      <td>Obesity / Weight Status</td>\n",
              "      <td>Obesity / Weight Status</td>\n",
              "      <td>Percent of adults aged 18 years and older who ...</td>\n",
              "      <td>2011.0</td>\n",
              "      <td>Value</td>\n",
              "      <td>...</td>\n",
              "      <td>(64.845079957001, -147.722059036)</td>\n",
              "      <td>OWS</td>\n",
              "      <td>OWS1</td>\n",
              "      <td>Q036</td>\n",
              "      <td>VALUE</td>\n",
              "      <td>2</td>\n",
              "      <td>Age (years)</td>\n",
              "      <td>35 - 44</td>\n",
              "      <td>AGEYR</td>\n",
              "      <td>AGEYR3544</td>\n",
              "    </tr>\n",
              "    <tr>\n",
              "      <th>4</th>\n",
              "      <td>2011</td>\n",
              "      <td>2011</td>\n",
              "      <td>AK</td>\n",
              "      <td>Alaska</td>\n",
              "      <td>BRFSS</td>\n",
              "      <td>Obesity / Weight Status</td>\n",
              "      <td>Obesity / Weight Status</td>\n",
              "      <td>Percent of adults aged 18 years and older who ...</td>\n",
              "      <td>2011.0</td>\n",
              "      <td>Value</td>\n",
              "      <td>...</td>\n",
              "      <td>(64.845079957001, -147.722059036)</td>\n",
              "      <td>OWS</td>\n",
              "      <td>OWS1</td>\n",
              "      <td>Q037</td>\n",
              "      <td>VALUE</td>\n",
              "      <td>2</td>\n",
              "      <td>Income</td>\n",
              "      <td>$15,000 - $24,999</td>\n",
              "      <td>INC</td>\n",
              "      <td>INC1525</td>\n",
              "    </tr>\n",
              "  </tbody>\n",
              "</table>\n",
              "<p>5 rows × 33 columns</p>\n",
              "</div>\n",
              "    <div class=\"colab-df-buttons\">\n",
              "\n",
              "  <div class=\"colab-df-container\">\n",
              "    <button class=\"colab-df-convert\" onclick=\"convertToInteractive('df-910e7f33-ec77-46a4-91da-eceb536d4c7a')\"\n",
              "            title=\"Convert this dataframe to an interactive table.\"\n",
              "            style=\"display:none;\">\n",
              "\n",
              "  <svg xmlns=\"http://www.w3.org/2000/svg\" height=\"24px\" viewBox=\"0 -960 960 960\">\n",
              "    <path d=\"M120-120v-720h720v720H120Zm60-500h600v-160H180v160Zm220 220h160v-160H400v160Zm0 220h160v-160H400v160ZM180-400h160v-160H180v160Zm440 0h160v-160H620v160ZM180-180h160v-160H180v160Zm440 0h160v-160H620v160Z\"/>\n",
              "  </svg>\n",
              "    </button>\n",
              "\n",
              "  <style>\n",
              "    .colab-df-container {\n",
              "      display:flex;\n",
              "      gap: 12px;\n",
              "    }\n",
              "\n",
              "    .colab-df-convert {\n",
              "      background-color: #E8F0FE;\n",
              "      border: none;\n",
              "      border-radius: 50%;\n",
              "      cursor: pointer;\n",
              "      display: none;\n",
              "      fill: #1967D2;\n",
              "      height: 32px;\n",
              "      padding: 0 0 0 0;\n",
              "      width: 32px;\n",
              "    }\n",
              "\n",
              "    .colab-df-convert:hover {\n",
              "      background-color: #E2EBFA;\n",
              "      box-shadow: 0px 1px 2px rgba(60, 64, 67, 0.3), 0px 1px 3px 1px rgba(60, 64, 67, 0.15);\n",
              "      fill: #174EA6;\n",
              "    }\n",
              "\n",
              "    .colab-df-buttons div {\n",
              "      margin-bottom: 4px;\n",
              "    }\n",
              "\n",
              "    [theme=dark] .colab-df-convert {\n",
              "      background-color: #3B4455;\n",
              "      fill: #D2E3FC;\n",
              "    }\n",
              "\n",
              "    [theme=dark] .colab-df-convert:hover {\n",
              "      background-color: #434B5C;\n",
              "      box-shadow: 0px 1px 3px 1px rgba(0, 0, 0, 0.15);\n",
              "      filter: drop-shadow(0px 1px 2px rgba(0, 0, 0, 0.3));\n",
              "      fill: #FFFFFF;\n",
              "    }\n",
              "  </style>\n",
              "\n",
              "    <script>\n",
              "      const buttonEl =\n",
              "        document.querySelector('#df-910e7f33-ec77-46a4-91da-eceb536d4c7a button.colab-df-convert');\n",
              "      buttonEl.style.display =\n",
              "        google.colab.kernel.accessAllowed ? 'block' : 'none';\n",
              "\n",
              "      async function convertToInteractive(key) {\n",
              "        const element = document.querySelector('#df-910e7f33-ec77-46a4-91da-eceb536d4c7a');\n",
              "        const dataTable =\n",
              "          await google.colab.kernel.invokeFunction('convertToInteractive',\n",
              "                                                    [key], {});\n",
              "        if (!dataTable) return;\n",
              "\n",
              "        const docLinkHtml = 'Like what you see? Visit the ' +\n",
              "          '<a target=\"_blank\" href=https://colab.research.google.com/notebooks/data_table.ipynb>data table notebook</a>'\n",
              "          + ' to learn more about interactive tables.';\n",
              "        element.innerHTML = '';\n",
              "        dataTable['output_type'] = 'display_data';\n",
              "        await google.colab.output.renderOutput(dataTable, element);\n",
              "        const docLink = document.createElement('div');\n",
              "        docLink.innerHTML = docLinkHtml;\n",
              "        element.appendChild(docLink);\n",
              "      }\n",
              "    </script>\n",
              "  </div>\n",
              "\n",
              "\n",
              "    <div id=\"df-913c561f-d5ea-4960-8970-c8bd48cfeb8b\">\n",
              "      <button class=\"colab-df-quickchart\" onclick=\"quickchart('df-913c561f-d5ea-4960-8970-c8bd48cfeb8b')\"\n",
              "                title=\"Suggest charts\"\n",
              "                style=\"display:none;\">\n",
              "\n",
              "<svg xmlns=\"http://www.w3.org/2000/svg\" height=\"24px\"viewBox=\"0 0 24 24\"\n",
              "     width=\"24px\">\n",
              "    <g>\n",
              "        <path d=\"M19 3H5c-1.1 0-2 .9-2 2v14c0 1.1.9 2 2 2h14c1.1 0 2-.9 2-2V5c0-1.1-.9-2-2-2zM9 17H7v-7h2v7zm4 0h-2V7h2v10zm4 0h-2v-4h2v4z\"/>\n",
              "    </g>\n",
              "</svg>\n",
              "      </button>\n",
              "\n",
              "<style>\n",
              "  .colab-df-quickchart {\n",
              "      --bg-color: #E8F0FE;\n",
              "      --fill-color: #1967D2;\n",
              "      --hover-bg-color: #E2EBFA;\n",
              "      --hover-fill-color: #174EA6;\n",
              "      --disabled-fill-color: #AAA;\n",
              "      --disabled-bg-color: #DDD;\n",
              "  }\n",
              "\n",
              "  [theme=dark] .colab-df-quickchart {\n",
              "      --bg-color: #3B4455;\n",
              "      --fill-color: #D2E3FC;\n",
              "      --hover-bg-color: #434B5C;\n",
              "      --hover-fill-color: #FFFFFF;\n",
              "      --disabled-bg-color: #3B4455;\n",
              "      --disabled-fill-color: #666;\n",
              "  }\n",
              "\n",
              "  .colab-df-quickchart {\n",
              "    background-color: var(--bg-color);\n",
              "    border: none;\n",
              "    border-radius: 50%;\n",
              "    cursor: pointer;\n",
              "    display: none;\n",
              "    fill: var(--fill-color);\n",
              "    height: 32px;\n",
              "    padding: 0;\n",
              "    width: 32px;\n",
              "  }\n",
              "\n",
              "  .colab-df-quickchart:hover {\n",
              "    background-color: var(--hover-bg-color);\n",
              "    box-shadow: 0 1px 2px rgba(60, 64, 67, 0.3), 0 1px 3px 1px rgba(60, 64, 67, 0.15);\n",
              "    fill: var(--button-hover-fill-color);\n",
              "  }\n",
              "\n",
              "  .colab-df-quickchart-complete:disabled,\n",
              "  .colab-df-quickchart-complete:disabled:hover {\n",
              "    background-color: var(--disabled-bg-color);\n",
              "    fill: var(--disabled-fill-color);\n",
              "    box-shadow: none;\n",
              "  }\n",
              "\n",
              "  .colab-df-spinner {\n",
              "    border: 2px solid var(--fill-color);\n",
              "    border-color: transparent;\n",
              "    border-bottom-color: var(--fill-color);\n",
              "    animation:\n",
              "      spin 1s steps(1) infinite;\n",
              "  }\n",
              "\n",
              "  @keyframes spin {\n",
              "    0% {\n",
              "      border-color: transparent;\n",
              "      border-bottom-color: var(--fill-color);\n",
              "      border-left-color: var(--fill-color);\n",
              "    }\n",
              "    20% {\n",
              "      border-color: transparent;\n",
              "      border-left-color: var(--fill-color);\n",
              "      border-top-color: var(--fill-color);\n",
              "    }\n",
              "    30% {\n",
              "      border-color: transparent;\n",
              "      border-left-color: var(--fill-color);\n",
              "      border-top-color: var(--fill-color);\n",
              "      border-right-color: var(--fill-color);\n",
              "    }\n",
              "    40% {\n",
              "      border-color: transparent;\n",
              "      border-right-color: var(--fill-color);\n",
              "      border-top-color: var(--fill-color);\n",
              "    }\n",
              "    60% {\n",
              "      border-color: transparent;\n",
              "      border-right-color: var(--fill-color);\n",
              "    }\n",
              "    80% {\n",
              "      border-color: transparent;\n",
              "      border-right-color: var(--fill-color);\n",
              "      border-bottom-color: var(--fill-color);\n",
              "    }\n",
              "    90% {\n",
              "      border-color: transparent;\n",
              "      border-bottom-color: var(--fill-color);\n",
              "    }\n",
              "  }\n",
              "</style>\n",
              "\n",
              "      <script>\n",
              "        async function quickchart(key) {\n",
              "          const quickchartButtonEl =\n",
              "            document.querySelector('#' + key + ' button');\n",
              "          quickchartButtonEl.disabled = true;  // To prevent multiple clicks.\n",
              "          quickchartButtonEl.classList.add('colab-df-spinner');\n",
              "          try {\n",
              "            const charts = await google.colab.kernel.invokeFunction(\n",
              "                'suggestCharts', [key], {});\n",
              "          } catch (error) {\n",
              "            console.error('Error during call to suggestCharts:', error);\n",
              "          }\n",
              "          quickchartButtonEl.classList.remove('colab-df-spinner');\n",
              "          quickchartButtonEl.classList.add('colab-df-quickchart-complete');\n",
              "        }\n",
              "        (() => {\n",
              "          let quickchartButtonEl =\n",
              "            document.querySelector('#df-913c561f-d5ea-4960-8970-c8bd48cfeb8b button');\n",
              "          quickchartButtonEl.style.display =\n",
              "            google.colab.kernel.accessAllowed ? 'block' : 'none';\n",
              "        })();\n",
              "      </script>\n",
              "    </div>\n",
              "    </div>\n",
              "  </div>\n"
            ],
            "application/vnd.google.colaboratory.intrinsic+json": {
              "type": "dataframe",
              "variable_name": "df"
            }
          },
          "metadata": {},
          "execution_count": 6
        }
      ]
    },
    {
      "cell_type": "code",
      "source": [
        "print(df.columns)\n"
      ],
      "metadata": {
        "colab": {
          "base_uri": "https://localhost:8080/"
        },
        "id": "A1ynmeoCvBY9",
        "outputId": "9105f34c-0227-4d64-f3bb-99fafcf21ceb"
      },
      "execution_count": 7,
      "outputs": [
        {
          "output_type": "stream",
          "name": "stdout",
          "text": [
            "Index(['YearStart', 'YearEnd', 'LocationAbbr', 'LocationDesc', 'Datasource',\n",
            "       'Class', 'Topic', 'Question', 'Data_Value_Unit', 'Data_Value_Type',\n",
            "       'Data_Value', 'Data_Value_Alt', 'Data_Value_Footnote_Symbol',\n",
            "       'Data_Value_Footnote', 'Low_Confidence_Limit', 'High_Confidence_Limit ',\n",
            "       'Sample_Size', 'Total', 'Age(years)', 'Education', 'Sex', 'Income',\n",
            "       'Race/Ethnicity', 'GeoLocation', 'ClassID', 'TopicID', 'QuestionID',\n",
            "       'DataValueTypeID', 'LocationID', 'StratificationCategory1',\n",
            "       'Stratification1', 'StratificationCategoryId1', 'StratificationID1'],\n",
            "      dtype='object')\n"
          ]
        }
      ]
    },
    {
      "cell_type": "code",
      "source": [
        "obesity = df[(df['Topic'] == 'Obesity / Weight Status') &\n",
        "             (df['Question'].str.contains('Percent of adults aged 18 years and older who have obesity'))]\n"
      ],
      "metadata": {
        "id": "mlQoewDNviEW"
      },
      "execution_count": 9,
      "outputs": []
    },
    {
      "cell_type": "code",
      "source": [
        "activity = df[(df['Topic'] == 'Physical Activity') &\n",
        "              (df['Question'].str.contains('Percent of adults who achieve at least 150 min'))]\n"
      ],
      "metadata": {
        "id": "CFsh_s3KvqqX"
      },
      "execution_count": 10,
      "outputs": []
    },
    {
      "cell_type": "code",
      "source": [
        "obesity_data = obesity[['LocationDesc', 'Data_Value']].rename(columns={'Data_Value': 'Obesity'})\n",
        "activity_data = activity[['LocationDesc', 'Data_Value']].rename(columns={'Data_Value': 'Physical_Activity'})\n"
      ],
      "metadata": {
        "id": "noDX9JBjvtOs"
      },
      "execution_count": 11,
      "outputs": []
    },
    {
      "cell_type": "code",
      "source": [
        "merged = pd.merge(obesity_data, activity_data, on='LocationDesc')\n",
        "merged = merged.dropna()\n",
        "merged.head()\n"
      ],
      "metadata": {
        "colab": {
          "base_uri": "https://localhost:8080/",
          "height": 53
        },
        "id": "N8qJIUvJvwIm",
        "outputId": "232d78b3-8706-4789-8cf2-c35cbe7fe9f1"
      },
      "execution_count": 12,
      "outputs": [
        {
          "output_type": "execute_result",
          "data": {
            "text/plain": [
              "Empty DataFrame\n",
              "Columns: [LocationDesc, Obesity, Physical_Activity]\n",
              "Index: []"
            ],
            "text/html": [
              "\n",
              "  <div id=\"df-75ef741f-874a-419d-b104-c4d0f5a21786\" class=\"colab-df-container\">\n",
              "    <div>\n",
              "<style scoped>\n",
              "    .dataframe tbody tr th:only-of-type {\n",
              "        vertical-align: middle;\n",
              "    }\n",
              "\n",
              "    .dataframe tbody tr th {\n",
              "        vertical-align: top;\n",
              "    }\n",
              "\n",
              "    .dataframe thead th {\n",
              "        text-align: right;\n",
              "    }\n",
              "</style>\n",
              "<table border=\"1\" class=\"dataframe\">\n",
              "  <thead>\n",
              "    <tr style=\"text-align: right;\">\n",
              "      <th></th>\n",
              "      <th>LocationDesc</th>\n",
              "      <th>Obesity</th>\n",
              "      <th>Physical_Activity</th>\n",
              "    </tr>\n",
              "  </thead>\n",
              "  <tbody>\n",
              "  </tbody>\n",
              "</table>\n",
              "</div>\n",
              "    <div class=\"colab-df-buttons\">\n",
              "\n",
              "  <div class=\"colab-df-container\">\n",
              "    <button class=\"colab-df-convert\" onclick=\"convertToInteractive('df-75ef741f-874a-419d-b104-c4d0f5a21786')\"\n",
              "            title=\"Convert this dataframe to an interactive table.\"\n",
              "            style=\"display:none;\">\n",
              "\n",
              "  <svg xmlns=\"http://www.w3.org/2000/svg\" height=\"24px\" viewBox=\"0 -960 960 960\">\n",
              "    <path d=\"M120-120v-720h720v720H120Zm60-500h600v-160H180v160Zm220 220h160v-160H400v160Zm0 220h160v-160H400v160ZM180-400h160v-160H180v160Zm440 0h160v-160H620v160ZM180-180h160v-160H180v160Zm440 0h160v-160H620v160Z\"/>\n",
              "  </svg>\n",
              "    </button>\n",
              "\n",
              "  <style>\n",
              "    .colab-df-container {\n",
              "      display:flex;\n",
              "      gap: 12px;\n",
              "    }\n",
              "\n",
              "    .colab-df-convert {\n",
              "      background-color: #E8F0FE;\n",
              "      border: none;\n",
              "      border-radius: 50%;\n",
              "      cursor: pointer;\n",
              "      display: none;\n",
              "      fill: #1967D2;\n",
              "      height: 32px;\n",
              "      padding: 0 0 0 0;\n",
              "      width: 32px;\n",
              "    }\n",
              "\n",
              "    .colab-df-convert:hover {\n",
              "      background-color: #E2EBFA;\n",
              "      box-shadow: 0px 1px 2px rgba(60, 64, 67, 0.3), 0px 1px 3px 1px rgba(60, 64, 67, 0.15);\n",
              "      fill: #174EA6;\n",
              "    }\n",
              "\n",
              "    .colab-df-buttons div {\n",
              "      margin-bottom: 4px;\n",
              "    }\n",
              "\n",
              "    [theme=dark] .colab-df-convert {\n",
              "      background-color: #3B4455;\n",
              "      fill: #D2E3FC;\n",
              "    }\n",
              "\n",
              "    [theme=dark] .colab-df-convert:hover {\n",
              "      background-color: #434B5C;\n",
              "      box-shadow: 0px 1px 3px 1px rgba(0, 0, 0, 0.15);\n",
              "      filter: drop-shadow(0px 1px 2px rgba(0, 0, 0, 0.3));\n",
              "      fill: #FFFFFF;\n",
              "    }\n",
              "  </style>\n",
              "\n",
              "    <script>\n",
              "      const buttonEl =\n",
              "        document.querySelector('#df-75ef741f-874a-419d-b104-c4d0f5a21786 button.colab-df-convert');\n",
              "      buttonEl.style.display =\n",
              "        google.colab.kernel.accessAllowed ? 'block' : 'none';\n",
              "\n",
              "      async function convertToInteractive(key) {\n",
              "        const element = document.querySelector('#df-75ef741f-874a-419d-b104-c4d0f5a21786');\n",
              "        const dataTable =\n",
              "          await google.colab.kernel.invokeFunction('convertToInteractive',\n",
              "                                                    [key], {});\n",
              "        if (!dataTable) return;\n",
              "\n",
              "        const docLinkHtml = 'Like what you see? Visit the ' +\n",
              "          '<a target=\"_blank\" href=https://colab.research.google.com/notebooks/data_table.ipynb>data table notebook</a>'\n",
              "          + ' to learn more about interactive tables.';\n",
              "        element.innerHTML = '';\n",
              "        dataTable['output_type'] = 'display_data';\n",
              "        await google.colab.output.renderOutput(dataTable, element);\n",
              "        const docLink = document.createElement('div');\n",
              "        docLink.innerHTML = docLinkHtml;\n",
              "        element.appendChild(docLink);\n",
              "      }\n",
              "    </script>\n",
              "  </div>\n",
              "\n",
              "    </div>\n",
              "  </div>\n"
            ],
            "application/vnd.google.colaboratory.intrinsic+json": {
              "type": "dataframe",
              "variable_name": "merged",
              "repr_error": "Out of range float values are not JSON compliant: nan"
            }
          },
          "metadata": {},
          "execution_count": 12
        }
      ]
    },
    {
      "cell_type": "code",
      "source": [
        "import matplotlib.pyplot as plt\n",
        "\n",
        "plt.figure(figsize=(12,5))\n",
        "\n",
        "plt.subplot(1,2,1)\n",
        "plt.hist(merged['Obesity'], bins=10)\n",
        "plt.title('Obesity Rate Histogram')\n",
        "plt.xlabel('Obesity Rate (%)')\n",
        "plt.ylabel('Number of States')\n",
        "\n",
        "plt.subplot(1,2,2)\n",
        "plt.hist(merged['Physical_Activity'], bins=10)\n",
        "plt.title('Physical Activity Rate Histogram')\n",
        "plt.xlabel('Physical Activity Rate (%)')\n",
        "plt.ylabel('Number of States')\n",
        "\n",
        "plt.tight_layout()\n",
        "plt.show()\n"
      ],
      "metadata": {
        "colab": {
          "base_uri": "https://localhost:8080/",
          "height": 1000
        },
        "id": "GH6o0OHow_Ls",
        "outputId": "465954e6-add0-4f99-b702-99793e905b69"
      },
      "execution_count": 17,
      "outputs": [
        {
          "output_type": "stream",
          "name": "stderr",
          "text": [
            "WARNING:matplotlib.font_manager:findfont: Font family 'Vazir' not found.\n",
            "WARNING:matplotlib.font_manager:findfont: Font family 'Vazir' not found.\n",
            "WARNING:matplotlib.font_manager:findfont: Font family 'Vazir' not found.\n",
            "WARNING:matplotlib.font_manager:findfont: Font family 'Vazir' not found.\n",
            "WARNING:matplotlib.font_manager:findfont: Font family 'Vazir' not found.\n",
            "WARNING:matplotlib.font_manager:findfont: Font family 'Vazir' not found.\n",
            "WARNING:matplotlib.font_manager:findfont: Font family 'Vazir' not found.\n",
            "WARNING:matplotlib.font_manager:findfont: Font family 'Vazir' not found.\n",
            "WARNING:matplotlib.font_manager:findfont: Font family 'Vazir' not found.\n",
            "WARNING:matplotlib.font_manager:findfont: Font family 'Vazir' not found.\n",
            "WARNING:matplotlib.font_manager:findfont: Font family 'Vazir' not found.\n",
            "WARNING:matplotlib.font_manager:findfont: Font family 'Vazir' not found.\n",
            "WARNING:matplotlib.font_manager:findfont: Font family 'Vazir' not found.\n",
            "WARNING:matplotlib.font_manager:findfont: Font family 'Vazir' not found.\n",
            "WARNING:matplotlib.font_manager:findfont: Font family 'Vazir' not found.\n",
            "WARNING:matplotlib.font_manager:findfont: Font family 'Vazir' not found.\n",
            "WARNING:matplotlib.font_manager:findfont: Font family 'Vazir' not found.\n",
            "WARNING:matplotlib.font_manager:findfont: Font family 'Vazir' not found.\n",
            "WARNING:matplotlib.font_manager:findfont: Font family 'Vazir' not found.\n",
            "WARNING:matplotlib.font_manager:findfont: Font family 'Vazir' not found.\n",
            "WARNING:matplotlib.font_manager:findfont: Font family 'Vazir' not found.\n",
            "WARNING:matplotlib.font_manager:findfont: Font family 'Vazir' not found.\n",
            "WARNING:matplotlib.font_manager:findfont: Font family 'Vazir' not found.\n",
            "WARNING:matplotlib.font_manager:findfont: Font family 'Vazir' not found.\n",
            "WARNING:matplotlib.font_manager:findfont: Font family 'Vazir' not found.\n",
            "WARNING:matplotlib.font_manager:findfont: Font family 'Vazir' not found.\n",
            "WARNING:matplotlib.font_manager:findfont: Font family 'Vazir' not found.\n",
            "WARNING:matplotlib.font_manager:findfont: Font family 'Vazir' not found.\n",
            "WARNING:matplotlib.font_manager:findfont: Font family 'Vazir' not found.\n",
            "WARNING:matplotlib.font_manager:findfont: Font family 'Vazir' not found.\n",
            "WARNING:matplotlib.font_manager:findfont: Font family 'Vazir' not found.\n",
            "WARNING:matplotlib.font_manager:findfont: Font family 'Vazir' not found.\n",
            "WARNING:matplotlib.font_manager:findfont: Font family 'Vazir' not found.\n",
            "WARNING:matplotlib.font_manager:findfont: Font family 'Vazir' not found.\n",
            "WARNING:matplotlib.font_manager:findfont: Font family 'Vazir' not found.\n",
            "WARNING:matplotlib.font_manager:findfont: Font family 'Vazir' not found.\n",
            "WARNING:matplotlib.font_manager:findfont: Font family 'Vazir' not found.\n",
            "WARNING:matplotlib.font_manager:findfont: Font family 'Vazir' not found.\n",
            "WARNING:matplotlib.font_manager:findfont: Font family 'Vazir' not found.\n",
            "WARNING:matplotlib.font_manager:findfont: Font family 'Vazir' not found.\n",
            "WARNING:matplotlib.font_manager:findfont: Font family 'Vazir' not found.\n",
            "WARNING:matplotlib.font_manager:findfont: Font family 'Vazir' not found.\n",
            "WARNING:matplotlib.font_manager:findfont: Font family 'Vazir' not found.\n",
            "WARNING:matplotlib.font_manager:findfont: Font family 'Vazir' not found.\n",
            "WARNING:matplotlib.font_manager:findfont: Font family 'Vazir' not found.\n",
            "WARNING:matplotlib.font_manager:findfont: Font family 'Vazir' not found.\n",
            "WARNING:matplotlib.font_manager:findfont: Font family 'Vazir' not found.\n",
            "WARNING:matplotlib.font_manager:findfont: Font family 'Vazir' not found.\n",
            "WARNING:matplotlib.font_manager:findfont: Font family 'Vazir' not found.\n",
            "WARNING:matplotlib.font_manager:findfont: Font family 'Vazir' not found.\n",
            "WARNING:matplotlib.font_manager:findfont: Font family 'Vazir' not found.\n",
            "WARNING:matplotlib.font_manager:findfont: Font family 'Vazir' not found.\n",
            "WARNING:matplotlib.font_manager:findfont: Font family 'Vazir' not found.\n",
            "WARNING:matplotlib.font_manager:findfont: Font family 'Vazir' not found.\n",
            "WARNING:matplotlib.font_manager:findfont: Font family 'Vazir' not found.\n",
            "WARNING:matplotlib.font_manager:findfont: Font family 'Vazir' not found.\n",
            "WARNING:matplotlib.font_manager:findfont: Font family 'Vazir' not found.\n",
            "WARNING:matplotlib.font_manager:findfont: Font family 'Vazir' not found.\n",
            "WARNING:matplotlib.font_manager:findfont: Font family 'Vazir' not found.\n",
            "WARNING:matplotlib.font_manager:findfont: Font family 'Vazir' not found.\n",
            "WARNING:matplotlib.font_manager:findfont: Font family 'Vazir' not found.\n",
            "WARNING:matplotlib.font_manager:findfont: Font family 'Vazir' not found.\n",
            "WARNING:matplotlib.font_manager:findfont: Font family 'Vazir' not found.\n",
            "WARNING:matplotlib.font_manager:findfont: Font family 'Vazir' not found.\n"
          ]
        },
        {
          "output_type": "display_data",
          "data": {
            "text/plain": [
              "<Figure size 1200x500 with 2 Axes>"
            ],
            "image/png": "[encoded data removed]"
          },
          "metadata": {}
        }
      ]
    },
    {
      "cell_type": "code",
      "source": [
        "print(merged.shape)\n",
        "print(merged.head(10))\n"
      ],
      "metadata": {
        "colab": {
          "base_uri": "https://localhost:8080/"
        },
        "id": "MUSeNrYOyAze",
        "outputId": "23e9c4e1-3e4f-439f-bbf9-98935e67d90e"
      },
      "execution_count": 20,
      "outputs": [
        {
          "output_type": "stream",
          "name": "stdout",
          "text": [
            "(0, 3)\n",
            "Empty DataFrame\n",
            "Columns: [LocationDesc, Obesity, Physical_Activity]\n",
            "Index: []\n"
          ]
        }
      ]
    },
    {
      "cell_type": "code",
      "source": [
        "print(obesity[['LocationDesc', 'Data_Value']].head(10))\n",
        "print(activity[['LocationDesc', 'Data_Value']].head(10))\n"
      ],
      "metadata": {
        "colab": {
          "base_uri": "https://localhost:8080/"
        },
        "id": "lXm8WEJbyI36",
        "outputId": "5446bdb4-b6c5-404f-fc82-64311a795811"
      },
      "execution_count": 21,
      "outputs": [
        {
          "output_type": "stream",
          "name": "stdout",
          "text": [
            "   LocationDesc  Data_Value\n",
            "0        Alaska        23.3\n",
            "1        Alaska        35.5\n",
            "3        Alaska        29.5\n",
            "5        Alaska        28.0\n",
            "11       Alaska        26.7\n",
            "14       Alaska        25.8\n",
            "31       Alaska         NaN\n",
            "33       Alaska        31.5\n",
            "34       Alaska        30.9\n",
            "44       Alaska        33.4\n",
            "Empty DataFrame\n",
            "Columns: [LocationDesc, Data_Value]\n",
            "Index: []\n"
          ]
        }
      ]
    },
    {
      "cell_type": "code",
      "source": [
        "print(df['Topic'].unique())\n",
        "print(df['Question'].unique())\n"
      ],
      "metadata": {
        "colab": {
          "base_uri": "https://localhost:8080/"
        },
        "id": "qWpjZGo-yKNr",
        "outputId": "eadf8f70-830a-42a3-a958-0bb42d9e5ec0"
      },
      "execution_count": 22,
      "outputs": [
        {
          "output_type": "stream",
          "name": "stdout",
          "text": [
            "['Obesity / Weight Status' 'Physical Activity - Behavior'\n",
            " 'Fruits and Vegetables - Behavior']\n",
            "['Percent of adults aged 18 years and older who have obesity'\n",
            " 'Percent of adults who achieve at least 150 minutes a week of moderate-intensity aerobic physical activity or 75 minutes a week of vigorous-intensity aerobic physical activity and engage in muscle-strengthening activities on 2 or more days a week'\n",
            " 'Percent of adults aged 18 years and older who have an overweight classification'\n",
            " 'Percent of adults who engage in muscle-strengthening activities on 2 or more days a week'\n",
            " 'Percent of adults who achieve at least 300 minutes a week of moderate-intensity aerobic physical activity or 150 minutes a week of vigorous-intensity aerobic activity (or an equivalent combination)'\n",
            " 'Percent of adults who engage in no leisure-time physical activity'\n",
            " 'Percent of adults who achieve at least 150 minutes a week of moderate-intensity aerobic physical activity or 75 minutes a week of vigorous-intensity aerobic activity (or an equivalent combination)'\n",
            " 'Percent of adults who report consuming fruit less than one time daily'\n",
            " 'Percent of adults who report consuming vegetables less than one time daily']\n"
          ]
        }
      ]
    },
    {
      "cell_type": "code",
      "source": [
        "obesity = df[df['Question'].str.contains('obesity', case=False, na=False)]\n",
        "activity = df[df['Question'].str.contains('physical activity', case=False, na=False)]\n"
      ],
      "metadata": {
        "id": "1XYU-H5_yNw5"
      },
      "execution_count": 23,
      "outputs": []
    },
    {
      "cell_type": "code",
      "source": [
        "merged = pd.merge(obesity[['LocationDesc', 'Data_Value']].rename(columns={'Data_Value':'Obesity'}),\n",
        "                  activity[['LocationDesc', 'Data_Value']].rename(columns={'Data_Value':'Physical_Activity'}),\n",
        "                  on='LocationDesc')\n",
        "print(merged.shape)\n",
        "print(merged.head(10))\n"
      ],
      "metadata": {
        "colab": {
          "base_uri": "https://localhost:8080/"
        },
        "id": "3BRDTWn2yRX8",
        "outputId": "4ddfb7a8-b102-4f8d-a569-d3bb212b32f2"
      },
      "execution_count": 24,
      "outputs": [
        {
          "output_type": "stream",
          "name": "stdout",
          "text": [
            "(16848160, 3)\n",
            "  LocationDesc  Obesity  Physical_Activity\n",
            "0       Alaska     23.3               21.7\n",
            "1       Alaska     23.3                NaN\n",
            "2       Alaska     23.3                NaN\n",
            "3       Alaska     23.3               17.3\n",
            "4       Alaska     23.3               19.2\n",
            "5       Alaska     23.3               56.2\n",
            "6       Alaska     23.3                NaN\n",
            "7       Alaska     23.3               30.1\n",
            "8       Alaska     23.3               33.8\n",
            "9       Alaska     23.3               67.2\n"
          ]
        }
      ]
    },
    {
      "cell_type": "code",
      "source": [
        "print(merged.shape)\n",
        "print(merged.head())\n"
      ],
      "metadata": {
        "colab": {
          "base_uri": "https://localhost:8080/"
        },
        "id": "axIUsCFcyW65",
        "outputId": "9bb4ee1f-a7ba-4e16-f7b7-f0a7839906f8"
      },
      "execution_count": 25,
      "outputs": [
        {
          "output_type": "stream",
          "name": "stdout",
          "text": [
            "(16848160, 3)\n",
            "  LocationDesc  Obesity  Physical_Activity\n",
            "0       Alaska     23.3               21.7\n",
            "1       Alaska     23.3                NaN\n",
            "2       Alaska     23.3                NaN\n",
            "3       Alaska     23.3               17.3\n",
            "4       Alaska     23.3               19.2\n"
          ]
        }
      ]
    },
    {
      "cell_type": "code",
      "source": [
        "from scipy.stats import pearsonr\n",
        "\n",
        "corr, p_value = pearsonr(merged['Obesity'], merged['Physical_Activity'])\n",
        "print(f\"Pearson correlation coefficient: {corr:.2f}\")\n",
        "print(f\"p-value: {p_value:.4f}\")\n"
      ],
      "metadata": {
        "colab": {
          "base_uri": "https://localhost:8080/"
        },
        "id": "WOAhhJppyrwv",
        "outputId": "c856a3a3-b13c-4504-902e-013dfdd79c9c"
      },
      "execution_count": 26,
      "outputs": [
        {
          "output_type": "stream",
          "name": "stdout",
          "text": [
            "Pearson correlation coefficient: nan\n",
            "p-value: nan\n"
          ]
        }
      ]
    },
    {
      "cell_type": "code",
      "source": [
        "print(merged[['Obesity', 'Physical_Activity']])\n",
        "print(merged[['Obesity', 'Physical_Activity']].dropna())\n",
        "print(merged[['Obesity', 'Physical_Activity']].dropna().shape)\n"
      ],
      "metadata": {
        "colab": {
          "base_uri": "https://localhost:8080/"
        },
        "id": "RF7A2igHzu7v",
        "outputId": "ec856671-c90e-4479-ae7d-0f193c4c09c9"
      },
      "execution_count": 27,
      "outputs": [
        {
          "output_type": "stream",
          "name": "stdout",
          "text": [
            "          Obesity  Physical_Activity\n",
            "0            23.3               21.7\n",
            "1            23.3                NaN\n",
            "2            23.3                NaN\n",
            "3            23.3               17.3\n",
            "4            23.3               19.2\n",
            "...           ...                ...\n",
            "16848155     40.1               28.5\n",
            "16848156     40.1               31.7\n",
            "16848157     40.1               32.4\n",
            "16848158     40.1               22.5\n",
            "16848159     40.1               34.7\n",
            "\n",
            "[16848160 rows x 2 columns]\n",
            "          Obesity  Physical_Activity\n",
            "0            23.3               21.7\n",
            "3            23.3               17.3\n",
            "4            23.3               19.2\n",
            "5            23.3               56.2\n",
            "7            23.3               30.1\n",
            "...           ...                ...\n",
            "16848155     40.1               28.5\n",
            "16848156     40.1               31.7\n",
            "16848157     40.1               32.4\n",
            "16848158     40.1               22.5\n",
            "16848159     40.1               34.7\n",
            "\n",
            "[13692556 rows x 2 columns]\n",
            "(13692556, 2)\n"
          ]
        }
      ]
    },
    {
      "cell_type": "code",
      "source": [
        "from scipy.stats import pearsonr\n",
        "\n",
        "clean_data = merged[['Obesity', 'Physical_Activity']].dropna()\n",
        "\n",
        "corr, p_value = pearsonr(clean_data['Obesity'], clean_data['Physical_Activity'])\n",
        "print(f\"Pearson correlation coefficient: {corr:.2f}\")\n",
        "print(f\"p-value: {p_value:.4f}\")\n"
      ],
      "metadata": {
        "colab": {
          "base_uri": "https://localhost:8080/"
        },
        "id": "w6QS-Da9zw6G",
        "outputId": "4939aedb-3339-4ee6-9a0a-e6f9d5fb6078"
      },
      "execution_count": 28,
      "outputs": [
        {
          "output_type": "stream",
          "name": "stdout",
          "text": [
            "Pearson correlation coefficient: -0.02\n",
            "p-value: 0.0000\n"
          ]
        }
      ]
    },
    {
      "cell_type": "code",
      "source": [
        "import matplotlib.pyplot as plt\n",
        "\n",
        "plt.figure(figsize=(8,6))\n",
        "plt.scatter(clean_data['Physical_Activity'], clean_data['Obesity'], alpha=0.1)\n",
        "plt.xlabel('Physical Activity Rate (%)')\n",
        "plt.ylabel('Obesity Rate (%)')\n",
        "plt.title('Obesity vs. Physical Activity (Scatter Plot)')\n",
        "plt.grid(True)\n",
        "plt.show()\n"
      ],
      "metadata": {
        "colab": {
          "base_uri": "https://localhost:8080/",
          "height": 1000
        },
        "id": "TQTnHrlk0r64",
        "outputId": "c398d73f-5d02-4265-dd61-8ef3fc7d17f2"
      },
      "execution_count": 29,
      "outputs": [
        {
          "output_type": "stream",
          "name": "stderr",
          "text": [
            "WARNING:matplotlib.font_manager:findfont: Font family 'Vazir' not found.\n",
            "WARNING:matplotlib.font_manager:findfont: Font family 'Vazir' not found.\n",
            "WARNING:matplotlib.font_manager:findfont: Font family 'Vazir' not found.\n",
            "WARNING:matplotlib.font_manager:findfont: Font family 'Vazir' not found.\n",
            "WARNING:matplotlib.font_manager:findfont: Font family 'Vazir' not found.\n",
            "WARNING:matplotlib.font_manager:findfont: Font family 'Vazir' not found.\n",
            "WARNING:matplotlib.font_manager:findfont: Font family 'Vazir' not found.\n",
            "WARNING:matplotlib.font_manager:findfont: Font family 'Vazir' not found.\n",
            "WARNING:matplotlib.font_manager:findfont: Font family 'Vazir' not found.\n",
            "WARNING:matplotlib.font_manager:findfont: Font family 'Vazir' not found.\n",
            "WARNING:matplotlib.font_manager:findfont: Font family 'Vazir' not found.\n",
            "WARNING:matplotlib.font_manager:findfont: Font family 'Vazir' not found.\n",
            "WARNING:matplotlib.font_manager:findfont: Font family 'Vazir' not found.\n",
            "WARNING:matplotlib.font_manager:findfont: Font family 'Vazir' not found.\n",
            "WARNING:matplotlib.font_manager:findfont: Font family 'Vazir' not found.\n",
            "WARNING:matplotlib.font_manager:findfont: Font family 'Vazir' not found.\n",
            "WARNING:matplotlib.font_manager:findfont: Font family 'Vazir' not found.\n",
            "WARNING:matplotlib.font_manager:findfont: Font family 'Vazir' not found.\n",
            "WARNING:matplotlib.font_manager:findfont: Font family 'Vazir' not found.\n",
            "WARNING:matplotlib.font_manager:findfont: Font family 'Vazir' not found.\n",
            "WARNING:matplotlib.font_manager:findfont: Font family 'Vazir' not found.\n",
            "WARNING:matplotlib.font_manager:findfont: Font family 'Vazir' not found.\n",
            "WARNING:matplotlib.font_manager:findfont: Font family 'Vazir' not found.\n",
            "WARNING:matplotlib.font_manager:findfont: Font family 'Vazir' not found.\n",
            "WARNING:matplotlib.font_manager:findfont: Font family 'Vazir' not found.\n",
            "WARNING:matplotlib.font_manager:findfont: Font family 'Vazir' not found.\n",
            "WARNING:matplotlib.font_manager:findfont: Font family 'Vazir' not found.\n",
            "WARNING:matplotlib.font_manager:findfont: Font family 'Vazir' not found.\n",
            "WARNING:matplotlib.font_manager:findfont: Font family 'Vazir' not found.\n",
            "WARNING:matplotlib.font_manager:findfont: Font family 'Vazir' not found.\n",
            "WARNING:matplotlib.font_manager:findfont: Font family 'Vazir' not found.\n",
            "WARNING:matplotlib.font_manager:findfont: Font family 'Vazir' not found.\n",
            "WARNING:matplotlib.font_manager:findfont: Font family 'Vazir' not found.\n",
            "WARNING:matplotlib.font_manager:findfont: Font family 'Vazir' not found.\n",
            "WARNING:matplotlib.font_manager:findfont: Font family 'Vazir' not found.\n",
            "WARNING:matplotlib.font_manager:findfont: Font family 'Vazir' not found.\n",
            "WARNING:matplotlib.font_manager:findfont: Font family 'Vazir' not found.\n",
            "WARNING:matplotlib.font_manager:findfont: Font family 'Vazir' not found.\n",
            "WARNING:matplotlib.font_manager:findfont: Font family 'Vazir' not found.\n",
            "WARNING:matplotlib.font_manager:findfont: Font family 'Vazir' not found.\n",
            "WARNING:matplotlib.font_manager:findfont: Font family 'Vazir' not found.\n",
            "WARNING:matplotlib.font_manager:findfont: Font family 'Vazir' not found.\n",
            "WARNING:matplotlib.font_manager:findfont: Font family 'Vazir' not found.\n",
            "WARNING:matplotlib.font_manager:findfont: Font family 'Vazir' not found.\n"
          ]
        },
        {
          "output_type": "display_data",
          "data": {
            "text/plain": [
              "<Figure size 800x600 with 1 Axes>"
            ],
            "image/png": "[encoded data removed]"
          },
          "metadata": {}
        }
      ]
    },
    {
      "cell_type": "code",
      "source": [
        "print(df['YearStart'].unique())\n"
      ],
      "metadata": {
        "colab": {
          "base_uri": "https://localhost:8080/"
        },
        "id": "BU0DATeQ177K",
        "outputId": "420ccc25-30c2-4777-d514-15c604274d90"
      },
      "execution_count": 30,
      "outputs": [
        {
          "output_type": "stream",
          "name": "stdout",
          "text": [
            "[2011 2016 2012 2014 2015 2013 2017 2018 2019 2020 2021 2022 2023]\n"
          ]
        }
      ]
    },
    {
      "cell_type": "code",
      "source": [
        "df_year = df[df['YearStart'] == 2015]\n",
        "print(df_year.shape)\n",
        "print(df_year.head())\n"
      ],
      "metadata": {
        "colab": {
          "base_uri": "https://localhost:8080/"
        },
        "id": "JfPASBzu19dJ",
        "outputId": "b0ba0f9c-651e-4335-b245-787daf032f6b"
      },
      "execution_count": 31,
      "outputs": [
        {
          "output_type": "stream",
          "name": "stdout",
          "text": [
            "(10584, 33)\n",
            "       YearStart  YearEnd LocationAbbr LocationDesc Datasource  \\\n",
            "7623        2015     2015           HI       Hawaii      BRFSS   \n",
            "7950        2015     2015           UT         Utah      BRFSS   \n",
            "29377       2015     2015           AK       Alaska      BRFSS   \n",
            "29378       2015     2015           AK       Alaska      BRFSS   \n",
            "29379       2015     2015           AK       Alaska      BRFSS   \n",
            "\n",
            "                         Class                         Topic  \\\n",
            "7623         Physical Activity  Physical Activity - Behavior   \n",
            "7950         Physical Activity  Physical Activity - Behavior   \n",
            "29377  Obesity / Weight Status       Obesity / Weight Status   \n",
            "29378  Obesity / Weight Status       Obesity / Weight Status   \n",
            "29379  Obesity / Weight Status       Obesity / Weight Status   \n",
            "\n",
            "                                                Question  Data_Value_Unit  \\\n",
            "7623   Percent of adults who engage in muscle-strengt...           2015.0   \n",
            "7950   Percent of adults who engage in no leisure-tim...           2015.0   \n",
            "29377  Percent of adults aged 18 years and older who ...           2015.0   \n",
            "29378  Percent of adults aged 18 years and older who ...           2015.0   \n",
            "29379  Percent of adults aged 18 years and older who ...           2015.0   \n",
            "\n",
            "      Data_Value_Type  ...                        GeoLocation  ClassID  \\\n",
            "7623            Value  ...     (21.304850435, -157.857749403)       PA   \n",
            "7950            Value  ...     (39.360700171, -111.587130635)       PA   \n",
            "29377           Value  ...  (64.845079957001, -147.722059036)      OWS   \n",
            "29378           Value  ...  (64.845079957001, -147.722059036)      OWS   \n",
            "29379           Value  ...  (64.845079957001, -147.722059036)      OWS   \n",
            "\n",
            "      TopicID QuestionID  DataValueTypeID  LocationID  \\\n",
            "7623      PA1       Q046            VALUE          15   \n",
            "7950      PA1       Q047            VALUE          49   \n",
            "29377    OWS1       Q037            VALUE           2   \n",
            "29378    OWS1       Q036            VALUE           2   \n",
            "29379    OWS1       Q037            VALUE           2   \n",
            "\n",
            "       StratificationCategory1                   Stratification1  \\\n",
            "7623                       Sex                              Male   \n",
            "7950               Age (years)                           25 - 34   \n",
            "29377                   Income                 $25,000 - $34,999   \n",
            "29378           Race/Ethnicity                             Other   \n",
            "29379                Education  Some college or technical school   \n",
            "\n",
            "      StratificationCategoryId1 StratificationID1  \n",
            "7623                        SEX              MALE  \n",
            "7950                      AGEYR         AGEYR2534  \n",
            "29377                       INC           INC2535  \n",
            "29378                      RACE           RACEOTH  \n",
            "29379                       EDU          EDUCOTEC  \n",
            "\n",
            "[5 rows x 33 columns]\n"
          ]
        }
      ]
    },
    {
      "cell_type": "code",
      "source": [
        "obesity = df_year[(df_year['Topic'] == 'Obesity / Weight Status') &\n",
        "                  (df_year['Question'].str.contains('Percent of adults aged 18 years and older who have obesity'))]\n",
        "\n",
        "activity = df_year[(df_year['Topic'] == 'Physical Activity') &\n",
        "                   (df_year['Question'].str.contains('Percent of adults who achieve at least 150 min'))]\n"
      ],
      "metadata": {
        "id": "1RXWMEeG2BK7"
      },
      "execution_count": 32,
      "outputs": []
    },
    {
      "cell_type": "code",
      "source": [
        "obesity_data = obesity[['LocationDesc', 'Data_Value']].rename(columns={'Data_Value': 'Obesity'})\n",
        "activity_data = activity[['LocationDesc', 'Data_Value']].rename(columns={'Data_Value': 'Physical_Activity'})\n",
        "\n",
        "merged = pd.merge(obesity_data, activity_data, on='LocationDesc').dropna()\n",
        "print(merged.shape)\n",
        "print(merged.head())\n"
      ],
      "metadata": {
        "colab": {
          "base_uri": "https://localhost:8080/"
        },
        "id": "T_pftXJX2FFT",
        "outputId": "6dd2bb65-3f75-48ef-a08d-f3fe3e3a6ee5"
      },
      "execution_count": 33,
      "outputs": [
        {
          "output_type": "stream",
          "name": "stdout",
          "text": [
            "(0, 3)\n",
            "Empty DataFrame\n",
            "Columns: [LocationDesc, Obesity, Physical_Activity]\n",
            "Index: []\n"
          ]
        }
      ]
    },
    {
      "cell_type": "code",
      "source": [
        "from scipy.stats import pearsonr\n",
        "\n",
        "if merged.shape[0] >= 2:\n",
        "    corr, p_value = pearsonr(merged['Obesity'], merged['Physical_Activity'])\n",
        "    print(f\"Pearson correlation coefficient: {corr:.2f}\")\n",
        "    print(f\"p-value: {p_value:.4f}\")\n",
        "else:\n",
        "    print(\"Not enough data to calculate Pearson correlation.\")\n"
      ],
      "metadata": {
        "colab": {
          "base_uri": "https://localhost:8080/"
        },
        "id": "l2JYsTjS2Isq",
        "outputId": "68c4bd8b-4208-45d5-9612-ded4f10e7aaa"
      },
      "execution_count": 34,
      "outputs": [
        {
          "output_type": "stream",
          "name": "stdout",
          "text": [
            "Not enough data to calculate Pearson correlation.\n"
          ]
        }
      ]
    },
    {
      "cell_type": "code",
      "source": [
        "import matplotlib.pyplot as plt\n",
        "\n",
        "plt.scatter(merged['Physical_Activity'], merged['Obesity'])\n",
        "plt.xlabel('Physical Activity Rate (%)')\n",
        "plt.ylabel('Obesity Rate (%)')\n",
        "plt.title('Obesity vs. Physical Activity (Selected Year)')\n",
        "plt.grid(True)\n",
        "plt.show()\n"
      ],
      "metadata": {
        "colab": {
          "base_uri": "https://localhost:8080/",
          "height": 1000
        },
        "id": "rgG74WIw2TKB",
        "outputId": "c96c4ce6-a61d-45a6-9182-2f6b78667e72"
      },
      "execution_count": 35,
      "outputs": [
        {
          "output_type": "stream",
          "name": "stderr",
          "text": [
            "WARNING:matplotlib.font_manager:findfont: Font family 'Vazir' not found.\n",
            "WARNING:matplotlib.font_manager:findfont: Font family 'Vazir' not found.\n",
            "WARNING:matplotlib.font_manager:findfont: Font family 'Vazir' not found.\n",
            "WARNING:matplotlib.font_manager:findfont: Font family 'Vazir' not found.\n",
            "WARNING:matplotlib.font_manager:findfont: Font family 'Vazir' not found.\n",
            "WARNING:matplotlib.font_manager:findfont: Font family 'Vazir' not found.\n",
            "WARNING:matplotlib.font_manager:findfont: Font family 'Vazir' not found.\n",
            "WARNING:matplotlib.font_manager:findfont: Font family 'Vazir' not found.\n",
            "WARNING:matplotlib.font_manager:findfont: Font family 'Vazir' not found.\n",
            "WARNING:matplotlib.font_manager:findfont: Font family 'Vazir' not found.\n",
            "WARNING:matplotlib.font_manager:findfont: Font family 'Vazir' not found.\n",
            "WARNING:matplotlib.font_manager:findfont: Font family 'Vazir' not found.\n",
            "WARNING:matplotlib.font_manager:findfont: Font family 'Vazir' not found.\n",
            "WARNING:matplotlib.font_manager:findfont: Font family 'Vazir' not found.\n",
            "WARNING:matplotlib.font_manager:findfont: Font family 'Vazir' not found.\n",
            "WARNING:matplotlib.font_manager:findfont: Font family 'Vazir' not found.\n",
            "WARNING:matplotlib.font_manager:findfont: Font family 'Vazir' not found.\n",
            "WARNING:matplotlib.font_manager:findfont: Font family 'Vazir' not found.\n",
            "WARNING:matplotlib.font_manager:findfont: Font family 'Vazir' not found.\n",
            "WARNING:matplotlib.font_manager:findfont: Font family 'Vazir' not found.\n",
            "WARNING:matplotlib.font_manager:findfont: Font family 'Vazir' not found.\n",
            "WARNING:matplotlib.font_manager:findfont: Font family 'Vazir' not found.\n",
            "WARNING:matplotlib.font_manager:findfont: Font family 'Vazir' not found.\n",
            "WARNING:matplotlib.font_manager:findfont: Font family 'Vazir' not found.\n",
            "WARNING:matplotlib.font_manager:findfont: Font family 'Vazir' not found.\n",
            "WARNING:matplotlib.font_manager:findfont: Font family 'Vazir' not found.\n",
            "WARNING:matplotlib.font_manager:findfont: Font family 'Vazir' not found.\n",
            "WARNING:matplotlib.font_manager:findfont: Font family 'Vazir' not found.\n",
            "WARNING:matplotlib.font_manager:findfont: Font family 'Vazir' not found.\n",
            "WARNING:matplotlib.font_manager:findfont: Font family 'Vazir' not found.\n",
            "WARNING:matplotlib.font_manager:findfont: Font family 'Vazir' not found.\n",
            "WARNING:matplotlib.font_manager:findfont: Font family 'Vazir' not found.\n",
            "WARNING:matplotlib.font_manager:findfont: Font family 'Vazir' not found.\n"
          ]
        },
        {
          "output_type": "display_data",
          "data": {
            "text/plain": [
              "<Figure size 640x480 with 1 Axes>"
            ],
            "image/png": "[encoded data removed]"
          },
          "metadata": {}
        }
      ]
    },
    {
      "cell_type": "code",
      "source": [
        "print(df[df['LocationDesc'] == 'California']['YearStart'].unique())\n"
      ],
      "metadata": {
        "colab": {
          "base_uri": "https://localhost:8080/"
        },
        "id": "qa2QEmK_2nDT",
        "outputId": "ae3480e8-ea85-4298-e212-7cec25b12dff"
      },
      "execution_count": 36,
      "outputs": [
        {
          "output_type": "stream",
          "name": "stdout",
          "text": [
            "[2011 2012 2013 2014 2015 2016 2017 2018 2019 2020 2021 2022 2023]\n"
          ]
        }
      ]
    },
    {
      "cell_type": "code",
      "source": [
        "df_ca = df[(df['LocationDesc'] == 'California') & (df['YearStart'] == 2015)]\n",
        "print(df_ca.shape)\n",
        "print(df_ca.head())\n"
      ],
      "metadata": {
        "colab": {
          "base_uri": "https://localhost:8080/"
        },
        "id": "VGgbwBLa2ohP",
        "outputId": "595edde5-cbdf-426f-edff-f2a74c41d02c"
      },
      "execution_count": 37,
      "outputs": [
        {
          "output_type": "stream",
          "name": "stdout",
          "text": [
            "(196, 33)\n",
            "       YearStart  YearEnd LocationAbbr LocationDesc Datasource  \\\n",
            "30165       2015     2015           CA   California      BRFSS   \n",
            "30166       2015     2015           CA   California      BRFSS   \n",
            "30167       2015     2015           CA   California      BRFSS   \n",
            "30168       2015     2015           CA   California      BRFSS   \n",
            "30170       2015     2015           CA   California      BRFSS   \n",
            "\n",
            "                         Class                         Topic  \\\n",
            "30165  Obesity / Weight Status       Obesity / Weight Status   \n",
            "30166  Obesity / Weight Status       Obesity / Weight Status   \n",
            "30167  Obesity / Weight Status       Obesity / Weight Status   \n",
            "30168        Physical Activity  Physical Activity - Behavior   \n",
            "30170        Physical Activity  Physical Activity - Behavior   \n",
            "\n",
            "                                                Question  Data_Value_Unit  \\\n",
            "30165  Percent of adults aged 18 years and older who ...           2015.0   \n",
            "30166  Percent of adults aged 18 years and older who ...           2015.0   \n",
            "30167  Percent of adults aged 18 years and older who ...           2015.0   \n",
            "30168  Percent of adults who achieve at least 300 min...           2015.0   \n",
            "30170  Percent of adults who achieve at least 150 min...           2015.0   \n",
            "\n",
            "      Data_Value_Type  ...                     GeoLocation  ClassID TopicID  \\\n",
            "30165           Value  ...  (37.638640123, -120.999999538)      OWS    OWS1   \n",
            "30166           Value  ...  (37.638640123, -120.999999538)      OWS    OWS1   \n",
            "30167           Value  ...  (37.638640123, -120.999999538)      OWS    OWS1   \n",
            "30168           Value  ...  (37.638640123, -120.999999538)       PA     PA1   \n",
            "30170           Value  ...  (37.638640123, -120.999999538)       PA     PA1   \n",
            "\n",
            "      QuestionID  DataValueTypeID  LocationID  StratificationCategory1  \\\n",
            "30165       Q036            VALUE           6              Age (years)   \n",
            "30166       Q036            VALUE           6                Education   \n",
            "30167       Q037            VALUE           6              Age (years)   \n",
            "30168       Q045            VALUE           6                Education   \n",
            "30170       Q044            VALUE           6           Race/Ethnicity   \n",
            "\n",
            "                        Stratification1 StratificationCategoryId1  \\\n",
            "30165                       65 or older                     AGEYR   \n",
            "30166  Some college or technical school                       EDU   \n",
            "30167                           35 - 44                     AGEYR   \n",
            "30168                  College graduate                       EDU   \n",
            "30170                Non-Hispanic White                      RACE   \n",
            "\n",
            "      StratificationID1  \n",
            "30165       AGEYR65PLUS  \n",
            "30166          EDUCOTEC  \n",
            "30167         AGEYR3544  \n",
            "30168         EDUCOGRAD  \n",
            "30170           RACEWHT  \n",
            "\n",
            "[5 rows x 33 columns]\n"
          ]
        }
      ]
    },
    {
      "cell_type": "code",
      "source": [
        "obesity = df_ca[(df_ca['Topic'] == 'Obesity / Weight Status') &\n",
        "                (df_ca['Question'].str.contains('Percent of adults aged 18 years and older who have obesity', na=False))]\n",
        "\n",
        "activity = df_ca[(df_ca['Topic'] == 'Physical Activity') &\n",
        "                 (df_ca['Question'].str.contains('Percent of adults who achieve at least 150 min', na=False))]\n"
      ],
      "metadata": {
        "id": "QIrPO3sq2rXM"
      },
      "execution_count": 39,
      "outputs": []
    },
    {
      "cell_type": "code",
      "source": [
        "obesity_value = obesity['Data_Value'].values\n",
        "activity_value = activity['Data_Value'].values\n",
        "\n",
        "print('Obesity:', obesity_value)\n",
        "print('Physical Activity:', activity_value)\n"
      ],
      "metadata": {
        "colab": {
          "base_uri": "https://localhost:8080/"
        },
        "id": "sL6xMGfX2ukD",
        "outputId": "7c970369-ef3f-4127-b89a-e9ab97e98427"
      },
      "execution_count": 40,
      "outputs": [
        {
          "output_type": "stream",
          "name": "stdout",
          "text": [
            "Obesity: [22.8 25.3 27.4 15.1 29.5 27.7 24.6 22.2 31.3 26.6 30.8 19.1 30.2 24.3\n",
            " 33.9 25.4 19.6 26.6 10.1  nan 26.1 13.6 28.5 25.1 26.  24.2 27.5 23.7]\n",
            "Physical Activity: []\n"
          ]
        }
      ]
    },
    {
      "cell_type": "code",
      "source": [
        "if len(obesity_value) > 0 and len(activity_value) > 0:\n",
        "    print(f\"Obesity: {obesity_value[0]}\")\n",
        "    print(f\"Physical Activity: {activity_value[0]}\")\n",
        "else:\n",
        "    print(\"Data not found for this year and state.\")\n"
      ],
      "metadata": {
        "colab": {
          "base_uri": "https://localhost:8080/"
        },
        "id": "kgOUvpcH2xTT",
        "outputId": "49f14b89-db45-47a7-c397-6b29d30c40d8"
      },
      "execution_count": 41,
      "outputs": [
        {
          "output_type": "stream",
          "name": "stdout",
          "text": [
            "Data not found for this year and state.\n"
          ]
        }
      ]
    },
    {
      "cell_type": "code",
      "source": [
        "years = df[df['LocationDesc'] == 'California']['YearStart'].unique()\n",
        "\n",
        "obesity_list = []\n",
        "activity_list = []\n",
        "year_list = []\n",
        "\n",
        "for year in years:\n",
        "    temp = df[(df['LocationDesc'] == 'California') & (df['YearStart'] == year)]\n",
        "    ob = temp[(temp['Topic'] == 'Obesity / Weight Status') &\n",
        "              (temp['Question'].str.contains('Percent of adults aged 18 years and older who have obesity', na=False))]\n",
        "    ac = temp[(temp['Topic'] == 'Physical Activity') &\n",
        "              (temp['Question'].str.contains('Percent of adults who achieve at least 150 min', na=False))]\n",
        "    if (not ob.empty) and (not ac.empty):\n",
        "        obesity_list.append(ob['Data_Value'].values[0])\n",
        "        activity_list.append(ac['Data_Value'].values[0])\n",
        "        year_list.append(year)\n",
        "\n",
        "import pandas as pd\n",
        "df_ca_years = pd.DataFrame({\n",
        "    'Year': year_list,\n",
        "    'Obesity': obesity_list,\n",
        "    'Physical_Activity': activity_list\n",
        "})\n",
        "print(df_ca_years)\n"
      ],
      "metadata": {
        "colab": {
          "base_uri": "https://localhost:8080/"
        },
        "id": "4-9VDfqF225N",
        "outputId": "28f2c8c7-ac91-4203-91f1-487d97f7f07f"
      },
      "execution_count": 42,
      "outputs": [
        {
          "output_type": "stream",
          "name": "stdout",
          "text": [
            "Empty DataFrame\n",
            "Columns: [Year, Obesity, Physical_Activity]\n",
            "Index: []\n"
          ]
        }
      ]
    },
    {
      "cell_type": "code",
      "source": [
        "from scipy.stats import pearsonr\n",
        "\n",
        "if len(df_ca_years) > 1:\n",
        "    corr, p_value = pearsonr(df_ca_years['Obesity'], df_ca_years['Physical_Activity'])\n",
        "    print(f\"Pearson correlation coefficient: {corr:.2f}\")\n",
        "    print(f\"p-value: {p_value:.4f}\")\n",
        "else:\n",
        "    print(\"Not enough data to calculate Pearson correlation.\")\n"
      ],
      "metadata": {
        "colab": {
          "base_uri": "https://localhost:8080/"
        },
        "id": "j7CHRRjP3AEw",
        "outputId": "6cef4b88-272e-48c9-be05-3786c48fb5e2"
      },
      "execution_count": 43,
      "outputs": [
        {
          "output_type": "stream",
          "name": "stdout",
          "text": [
            "Not enough data to calculate Pearson correlation.\n"
          ]
        }
      ]
    },
    {
      "cell_type": "code",
      "source": [
        "import matplotlib.pyplot as plt\n",
        "\n",
        "plt.plot(df_ca_years['Year'], df_ca_years['Obesity'], label='Obesity')\n",
        "plt.plot(df_ca_years['Year'], df_ca_years['Physical_Activity'], label='Physical Activity')\n",
        "plt.xlabel('Year')\n",
        "plt.ylabel('Percentage')\n",
        "plt.title('Obesity and Physical Activity Trends in California')\n",
        "plt.legend()\n",
        "plt.show()\n"
      ],
      "metadata": {
        "colab": {
          "base_uri": "https://localhost:8080/",
          "height": 1000
        },
        "id": "0M_U7HD73F94",
        "outputId": "4f6fed7f-0fb4-4d86-9e8e-099e9d2a6f9f"
      },
      "execution_count": 44,
      "outputs": [
        {
          "output_type": "stream",
          "name": "stderr",
          "text": [
            "WARNING:matplotlib.font_manager:findfont: Font family 'Vazir' not found.\n",
            "WARNING:matplotlib.font_manager:findfont: Font family 'Vazir' not found.\n",
            "WARNING:matplotlib.font_manager:findfont: Font family 'Vazir' not found.\n",
            "WARNING:matplotlib.font_manager:findfont: Font family 'Vazir' not found.\n",
            "WARNING:matplotlib.font_manager:findfont: Font family 'Vazir' not found.\n",
            "WARNING:matplotlib.font_manager:findfont: Font family 'Vazir' not found.\n",
            "WARNING:matplotlib.font_manager:findfont: Font family 'Vazir' not found.\n",
            "WARNING:matplotlib.font_manager:findfont: Font family 'Vazir' not found.\n",
            "WARNING:matplotlib.font_manager:findfont: Font family 'Vazir' not found.\n",
            "WARNING:matplotlib.font_manager:findfont: Font family 'Vazir' not found.\n",
            "WARNING:matplotlib.font_manager:findfont: Font family 'Vazir' not found.\n",
            "WARNING:matplotlib.font_manager:findfont: Font family 'Vazir' not found.\n",
            "WARNING:matplotlib.font_manager:findfont: Font family 'Vazir' not found.\n",
            "WARNING:matplotlib.font_manager:findfont: Font family 'Vazir' not found.\n",
            "WARNING:matplotlib.font_manager:findfont: Font family 'Vazir' not found.\n",
            "WARNING:matplotlib.font_manager:findfont: Font family 'Vazir' not found.\n",
            "WARNING:matplotlib.font_manager:findfont: Font family 'Vazir' not found.\n",
            "WARNING:matplotlib.font_manager:findfont: Font family 'Vazir' not found.\n",
            "WARNING:matplotlib.font_manager:findfont: Font family 'Vazir' not found.\n",
            "WARNING:matplotlib.font_manager:findfont: Font family 'Vazir' not found.\n",
            "WARNING:matplotlib.font_manager:findfont: Font family 'Vazir' not found.\n",
            "WARNING:matplotlib.font_manager:findfont: Font family 'Vazir' not found.\n",
            "WARNING:matplotlib.font_manager:findfont: Font family 'Vazir' not found.\n",
            "WARNING:matplotlib.font_manager:findfont: Font family 'Vazir' not found.\n",
            "WARNING:matplotlib.font_manager:findfont: Font family 'Vazir' not found.\n",
            "WARNING:matplotlib.font_manager:findfont: Font family 'Vazir' not found.\n",
            "WARNING:matplotlib.font_manager:findfont: Font family 'Vazir' not found.\n",
            "WARNING:matplotlib.font_manager:findfont: Font family 'Vazir' not found.\n",
            "WARNING:matplotlib.font_manager:findfont: Font family 'Vazir' not found.\n",
            "WARNING:matplotlib.font_manager:findfont: Font family 'Vazir' not found.\n",
            "WARNING:matplotlib.font_manager:findfont: Font family 'Vazir' not found.\n",
            "WARNING:matplotlib.font_manager:findfont: Font family 'Vazir' not found.\n",
            "WARNING:matplotlib.font_manager:findfont: Font family 'Vazir' not found.\n",
            "WARNING:matplotlib.font_manager:findfont: Font family 'Vazir' not found.\n",
            "WARNING:matplotlib.font_manager:findfont: Font family 'Vazir' not found.\n",
            "WARNING:matplotlib.font_manager:findfont: Font family 'Vazir' not found.\n",
            "WARNING:matplotlib.font_manager:findfont: Font family 'Vazir' not found.\n",
            "WARNING:matplotlib.font_manager:findfont: Font family 'Vazir' not found.\n",
            "WARNING:matplotlib.font_manager:findfont: Font family 'Vazir' not found.\n",
            "WARNING:matplotlib.font_manager:findfont: Font family 'Vazir' not found.\n",
            "WARNING:matplotlib.font_manager:findfont: Font family 'Vazir' not found.\n",
            "WARNING:matplotlib.font_manager:findfont: Font family 'Vazir' not found.\n",
            "WARNING:matplotlib.font_manager:findfont: Font family 'Vazir' not found.\n",
            "WARNING:matplotlib.font_manager:findfont: Font family 'Vazir' not found.\n",
            "WARNING:matplotlib.font_manager:findfont: Font family 'Vazir' not found.\n",
            "WARNING:matplotlib.font_manager:findfont: Font family 'Vazir' not found.\n",
            "WARNING:matplotlib.font_manager:findfont: Font family 'Vazir' not found.\n",
            "WARNING:matplotlib.font_manager:findfont: Font family 'Vazir' not found.\n",
            "WARNING:matplotlib.font_manager:findfont: Font family 'Vazir' not found.\n",
            "WARNING:matplotlib.font_manager:findfont: Font family 'Vazir' not found.\n",
            "WARNING:matplotlib.font_manager:findfont: Font family 'Vazir' not found.\n",
            "WARNING:matplotlib.font_manager:findfont: Font family 'Vazir' not found.\n",
            "WARNING:matplotlib.font_manager:findfont: Font family 'Vazir' not found.\n",
            "WARNING:matplotlib.font_manager:findfont: Font family 'Vazir' not found.\n",
            "WARNING:matplotlib.font_manager:findfont: Font family 'Vazir' not found.\n",
            "WARNING:matplotlib.font_manager:findfont: Font family 'Vazir' not found.\n",
            "WARNING:matplotlib.font_manager:findfont: Font family 'Vazir' not found.\n",
            "WARNING:matplotlib.font_manager:findfont: Font family 'Vazir' not found.\n",
            "WARNING:matplotlib.font_manager:findfont: Font family 'Vazir' not found.\n",
            "WARNING:matplotlib.font_manager:findfont: Font family 'Vazir' not found.\n",
            "WARNING:matplotlib.font_manager:findfont: Font family 'Vazir' not found.\n"
          ]
        },
        {
          "output_type": "display_data",
          "data": {
            "text/plain": [
              "<Figure size 640x480 with 1 Axes>"
            ],
            "image/png": "[encoded data removed]"
          },
          "metadata": {}
        }
      ]
    }
  ]
}